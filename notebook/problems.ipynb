{
 "cells": [
  {
   "cell_type": "markdown",
   "id": "ac622319",
   "metadata": {},
   "source": [
    "# Descriptive statistics problems"
   ]
  },
  {
   "cell_type": "markdown",
   "id": "5e0ab0d5",
   "metadata": {},
   "source": [
    "### Exercise 1\n",
    "\n",
    "We will use NumPy to obtain information to describe statistically.\n",
    "\n",
    "- Generate an array of 100 elements following a normal distribution.\n",
    "- Generate an array of 100 elements following a chi-square distribution with 3 degrees of freedom.\n",
    "- Calculate the main metrics and statistical measures that best describe the two vectors."
   ]
  },
  {
   "cell_type": "code",
   "execution_count": 29,
   "id": "34720ab6",
   "metadata": {},
   "outputs": [
    {
     "name": "stdout",
     "output_type": "stream",
     "text": [
      "Medias calculadas: normal 0.02471736736407838 chi 2.90042816779787\n",
      "Medias función: normal 0.024717367364078396 chi 2.900428167797871\n",
      "desvest calculadas: normal 1.0042584713283973 chi 2.4464866864519346\n",
      "desvest función: normal 1.0042584713283973 chi 2.446486686451935\n",
      "medianas calculadas: normal 0.012135288967212944 chi 2.2188940686746497\n",
      "medianas función: normal 0.012135288967212944 chi 2.2188940686746497\n"
     ]
    }
   ],
   "source": [
    "import numpy as np\n",
    "\n",
    "\n",
    "muestra = 100\n",
    "distribucion_norm = np.random.randn(muestra)\n",
    "distribucion_chi = np.random.chisquare (3, size = muestra)\n",
    "\n",
    "sum_calc_normal_media = 0\n",
    "sum_calc_chi_media = 0\n",
    "\n",
    "#cálculo de media\n",
    "\n",
    "for i in distribucion_norm:\n",
    "    sum_calc_normal_media += i\n",
    "\n",
    "normal_media = sum_calc_normal_media/muestra\n",
    "\n",
    "for i in distribucion_chi:\n",
    "    sum_calc_chi_media += i\n",
    "\n",
    "chi_media = sum_calc_chi_media/muestra\n",
    "\n",
    "print(f\"Medias calculadas: normal {normal_media} chi {chi_media}\")\n",
    "print(f\"Medias función: normal {np.mean(distribucion_norm)} chi {np.mean(distribucion_chi)}\")\n",
    "\n",
    "#cálculo de desvest\n",
    "\n",
    "sumatorio_norm = 0\n",
    "\n",
    "for i in distribucion_norm:\n",
    "    sumatorio_norm += (i - normal_media)**2\n",
    "\n",
    "desvest_norm = (sumatorio_norm/muestra)**0.5\n",
    "\n",
    "sumatorio_chi = 0\n",
    "\n",
    "for i in distribucion_chi:\n",
    "    sumatorio_chi = sumatorio_chi + (i - chi_media)**2\n",
    "\n",
    "desvest_chi = (sumatorio_chi/muestra)**0.5\n",
    "\n",
    "print(f\"desvest calculadas: normal {desvest_norm} chi {desvest_chi}\")\n",
    "print(f\"desvest función: normal {np.std(distribucion_norm)} chi {np.std(distribucion_chi)}\")\n",
    "\n",
    "#mediana\n",
    "\n",
    "normal_ordenada = np.sort(distribucion_norm)\n",
    "chi_ordenanda = np.sort(distribucion_chi)\n",
    "if muestra%2 == 0:\n",
    "    mediana_normal = ((normal_ordenada[int(muestra/2)-1]+normal_ordenada[int(muestra/2)])/2)\n",
    "    mediana_chi = ((chi_ordenanda[int(muestra/2)-1]+chi_ordenanda[int(muestra/2)])/2)\n",
    "\n",
    "else:\n",
    "    mediana_normal = (normal_ordenada[int(muestra/2)])\n",
    "    mediana_chi = (chi_ordenanda[int(muestra/2)])\n",
    "\n",
    "print(f\"medianas calculadas: normal {mediana_normal} chi {mediana_chi}\")\n",
    "print(f\"medianas función: normal {np.median(distribucion_norm)} chi {np.median(distribucion_chi)}\")\n",
    "\n",
    "\n",
    "\n",
    "\n",
    "\n",
    "    \n",
    "\n",
    "# TODO\n",
    "\n"
   ]
  },
  {
   "cell_type": "markdown",
   "id": "46c70c3d",
   "metadata": {},
   "source": [
    "### Exercise 2\n",
    "\n",
    "Write a Python program to calculate the standard deviation of the following data:\n",
    "\n",
    "```py\n",
    "data = [4, 2, 5, 8, 6]\n",
    "```"
   ]
  },
  {
   "cell_type": "code",
   "execution_count": 33,
   "id": "d590308e",
   "metadata": {},
   "outputs": [
    {
     "name": "stdout",
     "output_type": "stream",
     "text": [
      "2.0\n",
      "2.0\n"
     ]
    }
   ],
   "source": [
    "# TODO\n",
    "\n",
    "data = [4,2,5,8,6]\n",
    "media = np.mean(data)\n",
    "\n",
    "sumatorio = 0\n",
    "\n",
    "for i in data:\n",
    "    sumatorio += (i - media)**2\n",
    "\n",
    "desvest_data = (sumatorio/len(data))**0.5\n",
    "\n",
    "print (desvest_data)\n",
    "\n",
    "print (np.std(data))"
   ]
  }
 ],
 "metadata": {
  "kernelspec": {
   "display_name": "Python 3",
   "language": "python",
   "name": "python3"
  },
  "language_info": {
   "codemirror_mode": {
    "name": "ipython",
    "version": 3
   },
   "file_extension": ".py",
   "mimetype": "text/x-python",
   "name": "python",
   "nbconvert_exporter": "python",
   "pygments_lexer": "ipython3",
   "version": "3.11.4"
  }
 },
 "nbformat": 4,
 "nbformat_minor": 5
}
